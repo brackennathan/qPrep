{
 "cells": [
  {
   "cell_type": "markdown",
   "id": "d3df353d-ee6f-4ebf-ac5f-d1cc1b5fe337",
   "metadata": {},
   "source": [
    "### These are my notes that will help me organize my approach to being a Quantitative. Further, it will also help me prepare for interviews"
   ]
  },
  {
   "cell_type": "markdown",
   "id": "a283f298-cb45-4907-b7ea-f787a6037fac",
   "metadata": {},
   "source": [
    "# Quant Approach\n",
    "## Behavioral Attributes\n",
    "### What are your greatest strengths and weaknesses? \n",
    "\n",
    "What is my greatest strenght -> This leads me to do ____ very easily\n",
    "\n",
    "My greatest natural strength is my self awareness and my flexibilty. Explanation ~ For my flexibility, through my econometrics / other programming courses, I have learned how to find resources online to help me acheive a task. I feel that I can learn just about anything on my own. Environment sensitive.\n",
    "\n",
    "ability to listen and ask questions. I have found that inefficiency can very easily stem from not fully understanding the objective that needs to be reached. Being precise about the objective, whether short term or long term easily sets up the next tasks for completion. \n",
    "\n",
    "My greatest weakness leads me to do _____ . I counter this by ___\n",
    "\n",
    "My greatest weakness tends to be that I am not a natural self-starter. I think that my self awareness comes at a cost in that I get bogged down by doing a lot of thinking which leads me to get too focused on specific details of a project or just overwhelmed.\n",
    "\n",
    "### What are some current projects that the firm is looking at and how do you see my role contributing to the progression of the project?\n",
    "### Outside of the project stated, how will \n",
    "\n",
    "## Technical Attributes\n",
    "### Different Areas of Math that are useful in the job\n",
    "Statistics, Probability, Econometrics, Stochastic Processes, Linear Algebra, Dynamical Systems and Control\n",
    "\n",
    "#### What Methods am I familiar with?\n",
    "Generally, I am most confident with Econometric research methods. I am beginning to be more confident with an Analytical PDE approach as well. It will be useful to see where these two different approaches intersect."
   ]
  }
 ],
 "metadata": {
  "kernelspec": {
   "display_name": "Python 3 (ipykernel)",
   "language": "python",
   "name": "python3"
  },
  "language_info": {
   "codemirror_mode": {
    "name": "ipython",
    "version": 3
   },
   "file_extension": ".py",
   "mimetype": "text/x-python",
   "name": "python",
   "nbconvert_exporter": "python",
   "pygments_lexer": "ipython3",
   "version": "3.12.7"
  }
 },
 "nbformat": 4,
 "nbformat_minor": 5
}
